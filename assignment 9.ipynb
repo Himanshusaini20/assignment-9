{
 "cells": [
  {
   "cell_type": "markdown",
   "id": "3dd651e1-2560-4515-ad9a-ee998b5f5356",
   "metadata": {},
   "source": [
    "### Q1 What isan Exception in python? Write the difference between Exceptions and Syntax errors."
   ]
  },
  {
   "cell_type": "code",
   "execution_count": 3,
   "id": "7ae3967c-ef8d-4630-a7ba-6c7ed74b5302",
   "metadata": {},
   "outputs": [
    {
     "data": {
      "text/plain": [
       "\" An exception is a python object that repersents an error.\\n An Exception is an event that occurs during the program execution and disrupts the normal flow of the program's execution.\\n Errors mostly happen at compile time like syntax error, however it can happen at runtime as well. Where as an Exception \\n occurs at runtime.\""
      ]
     },
     "execution_count": 3,
     "metadata": {},
     "output_type": "execute_result"
    }
   ],
   "source": [
    "\"\"\" An exception is a python object that repersents an error.\n",
    " An Exception is an event that occurs during the program execution and disrupts the normal flow of the program's execution.\n",
    " Errors mostly happen at compile time like syntax error, however it can happen at runtime as well. Where as an Exception \n",
    " occurs at runtime.\"\"\"\n"
   ]
  },
  {
   "cell_type": "markdown",
   "id": "55385db7-abbd-478d-b796-8e12dca032ca",
   "metadata": {},
   "source": [
    "### Q2 What happens when an exception is not handeled? Explain withan example."
   ]
  },
  {
   "cell_type": "code",
   "execution_count": 1,
   "id": "26db41de-e66b-48a3-b09e-2c2b72327187",
   "metadata": {},
   "outputs": [
    {
     "ename": "FileNotFoundError",
     "evalue": "[Errno 2] No such file or directory: 'examle.txt'",
     "output_type": "error",
     "traceback": [
      "\u001b[0;31m---------------------------------------------------------------------------\u001b[0m",
      "\u001b[0;31mFileNotFoundError\u001b[0m                         Traceback (most recent call last)",
      "Cell \u001b[0;32mIn[1], line 1\u001b[0m\n\u001b[0;32m----> 1\u001b[0m h\u001b[38;5;241m=\u001b[39m\u001b[38;5;28;43mopen\u001b[39;49m\u001b[43m(\u001b[49m\u001b[38;5;124;43m\"\u001b[39;49m\u001b[38;5;124;43mexamle.txt\u001b[39;49m\u001b[38;5;124;43m\"\u001b[39;49m\u001b[43m,\u001b[49m\u001b[38;5;124;43m'\u001b[39;49m\u001b[38;5;124;43mr\u001b[39;49m\u001b[38;5;124;43m'\u001b[39;49m\u001b[43m)\u001b[49m\n\u001b[1;32m      2\u001b[0m \u001b[38;5;28mprint\u001b[39m(\u001b[38;5;124m\"\u001b[39m\u001b[38;5;124mthis is my example file\u001b[39m\u001b[38;5;124m\"\u001b[39m)\n",
      "File \u001b[0;32m/opt/conda/lib/python3.10/site-packages/IPython/core/interactiveshell.py:282\u001b[0m, in \u001b[0;36m_modified_open\u001b[0;34m(file, *args, **kwargs)\u001b[0m\n\u001b[1;32m    275\u001b[0m \u001b[38;5;28;01mif\u001b[39;00m file \u001b[38;5;129;01min\u001b[39;00m {\u001b[38;5;241m0\u001b[39m, \u001b[38;5;241m1\u001b[39m, \u001b[38;5;241m2\u001b[39m}:\n\u001b[1;32m    276\u001b[0m     \u001b[38;5;28;01mraise\u001b[39;00m \u001b[38;5;167;01mValueError\u001b[39;00m(\n\u001b[1;32m    277\u001b[0m         \u001b[38;5;124mf\u001b[39m\u001b[38;5;124m\"\u001b[39m\u001b[38;5;124mIPython won\u001b[39m\u001b[38;5;124m'\u001b[39m\u001b[38;5;124mt let you open fd=\u001b[39m\u001b[38;5;132;01m{\u001b[39;00mfile\u001b[38;5;132;01m}\u001b[39;00m\u001b[38;5;124m by default \u001b[39m\u001b[38;5;124m\"\u001b[39m\n\u001b[1;32m    278\u001b[0m         \u001b[38;5;124m\"\u001b[39m\u001b[38;5;124mas it is likely to crash IPython. If you know what you are doing, \u001b[39m\u001b[38;5;124m\"\u001b[39m\n\u001b[1;32m    279\u001b[0m         \u001b[38;5;124m\"\u001b[39m\u001b[38;5;124myou can use builtins\u001b[39m\u001b[38;5;124m'\u001b[39m\u001b[38;5;124m open.\u001b[39m\u001b[38;5;124m\"\u001b[39m\n\u001b[1;32m    280\u001b[0m     )\n\u001b[0;32m--> 282\u001b[0m \u001b[38;5;28;01mreturn\u001b[39;00m \u001b[43mio_open\u001b[49m\u001b[43m(\u001b[49m\u001b[43mfile\u001b[49m\u001b[43m,\u001b[49m\u001b[43m \u001b[49m\u001b[38;5;241;43m*\u001b[39;49m\u001b[43margs\u001b[49m\u001b[43m,\u001b[49m\u001b[43m \u001b[49m\u001b[38;5;241;43m*\u001b[39;49m\u001b[38;5;241;43m*\u001b[39;49m\u001b[43mkwargs\u001b[49m\u001b[43m)\u001b[49m\n",
      "\u001b[0;31mFileNotFoundError\u001b[0m: [Errno 2] No such file or directory: 'examle.txt'"
     ]
    }
   ],
   "source": [
    "h=open(\"examle.txt\",'r')\n",
    "print(\"this is my example file\")"
   ]
  },
  {
   "cell_type": "markdown",
   "id": "7f0417cd-c202-45cf-925b-49e4fc9ffbe2",
   "metadata": {},
   "source": [
    "### Q3 Which python statement are used to catch and handle exceptions? Explain with an example."
   ]
  },
  {
   "cell_type": "code",
   "execution_count": 2,
   "id": "a34d1a42-2635-46ce-a403-cf1e345ee4f8",
   "metadata": {},
   "outputs": [
    {
     "name": "stdout",
     "output_type": "stream",
     "text": [
      "this is my except block [Errno 2] No such file or directory: 'try.txt,'\n"
     ]
    }
   ],
   "source": [
    "try:\n",
    "    f=open(\"try.txt,\"r\"\")\n",
    "except Exception as e:\n",
    "    print (\"this is my except block\",e)"
   ]
  },
  {
   "cell_type": "markdown",
   "id": "9846b35c-7c30-47f7-9f56-28308d0f8470",
   "metadata": {},
   "source": [
    "### Q4 Explain with an example:\n",
    " try and else,\n",
    " finally,\n",
    " raise,"
   ]
  },
  {
   "cell_type": "code",
   "execution_count": 3,
   "id": "821b49da-cbb0-4357-a995-6038c6c7f7a2",
   "metadata": {},
   "outputs": [
    {
     "name": "stdout",
     "output_type": "stream",
     "text": [
      "this is my except block [Errno 2] No such file or directory: 'test.txt'\n"
     ]
    }
   ],
   "source": [
    "try:\n",
    "    f=open(\"test.txt\",\"r\")\n",
    "    f.write(\"write intomy file\")\n",
    "except Exception as a:\n",
    "    print (\"this is my except block\",a)\n",
    "else:\n",
    "    f.close()\n",
    "    print(\"this will be executed once your try will execute without error\")"
   ]
  },
  {
   "cell_type": "code",
   "execution_count": 4,
   "id": "a071f228-fc99-4885-b81f-77c2f379dc37",
   "metadata": {},
   "outputs": [
    {
     "name": "stdout",
     "output_type": "stream",
     "text": [
      "finally statement is print when prog is it wrong\n"
     ]
    }
   ],
   "source": [
    "try:\n",
    "    f=open(\"test1.txt\",\"w\")\n",
    "    f.write(\"My Name is Himanshu\")\n",
    "finally:\n",
    "    print(\"finally statement is print when prog is it wrong\")"
   ]
  },
  {
   "cell_type": "code",
   "execution_count": 8,
   "id": "26686f51-15ce-4ac0-834c-d46d85a5a139",
   "metadata": {},
   "outputs": [
    {
     "name": "stdin",
     "output_type": "stream",
     "text": [
      "enter your age 89\n"
     ]
    },
    {
     "name": "stdout",
     "output_type": "stream",
     "text": [
      "age is valid\n"
     ]
    }
   ],
   "source": [
    "\n",
    "class valid_age(Exception):\n",
    "    def __init__(self,msg):\n",
    "        self.msg=msg\n",
    "def validateage(Age):\n",
    "    if Age<0:\n",
    "        raise valid_age(\"entered age is negative\")\n",
    "    elif Age>200:\n",
    "        raise valid_age(\"entered age is very high\")\n",
    "    else:\n",
    "        print(\"age is valid\")\n",
    "try:\n",
    "    Age=int(input(\"enter your age\"))\n",
    "    validateage(Age)\n",
    "except valid_age as e:\n",
    "    print (e)"
   ]
  },
  {
   "cell_type": "markdown",
   "id": "06635dcf-475d-468f-9875-2f3d3e590e20",
   "metadata": {},
   "source": [
    "### Q5 What are custom exception in python? Why do we need custom exceptions? Explain with an example"
   ]
  },
  {
   "cell_type": "code",
   "execution_count": 9,
   "id": "6e8572a9-9225-4e16-8a88-327b3bd3de6b",
   "metadata": {},
   "outputs": [
    {
     "name": "stdin",
     "output_type": "stream",
     "text": [
      "enter your age 245\n"
     ]
    },
    {
     "name": "stdout",
     "output_type": "stream",
     "text": [
      "entered age is very high\n"
     ]
    }
   ],
   "source": [
    "class valid_age(Exception):\n",
    "    def __init__(self,msg):\n",
    "        self.msg=msg\n",
    "def validateage(Age):\n",
    "    if Age<0:\n",
    "        raise valid_age(\"entered age is negative\")\n",
    "    elif Age>200:\n",
    "        raise valid_age(\"entered age is very high\")\n",
    "    else:\n",
    "        print(\"age is valid\")\n",
    "try:\n",
    "    Age=int(input(\"enter your age\"))\n",
    "    validateage(Age)\n",
    "except valid_age as e:\n",
    "    print (e)"
   ]
  },
  {
   "cell_type": "markdown",
   "id": "b06acb4c-c929-4299-bb5a-14a2a5eeefdf",
   "metadata": {},
   "source": [
    "### Q6 Create a custom exception class. Use this class to handle an exception."
   ]
  },
  {
   "cell_type": "code",
   "execution_count": 10,
   "id": "4020cb4d-7a6e-4b9f-b841-8392f93140b0",
   "metadata": {},
   "outputs": [
    {
     "name": "stdin",
     "output_type": "stream",
     "text": [
      "enter a num: 45\n"
     ]
    },
    {
     "name": "stdout",
     "output_type": "stream",
     "text": [
      "eligible to vote\n"
     ]
    }
   ],
   "source": [
    "class invalidage_exception(Exception):\n",
    "    \"Raised when the input value is less then 18\"\n",
    "    pass\n",
    "number=18\n",
    "try:\n",
    "    input_num=int(input(\"enter a num:\"))\n",
    "    if input_num<number:\n",
    "        raise invalidage_exception\n",
    "    else:\n",
    "        print(\"eligible to vote\")\n",
    "except invalidage_exception:\n",
    "    print(\"exception occurred: invalid age\")"
   ]
  },
  {
   "cell_type": "code",
   "execution_count": null,
   "id": "b548973a-03c9-4912-b9af-e61e423157ec",
   "metadata": {},
   "outputs": [],
   "source": []
  }
 ],
 "metadata": {
  "kernelspec": {
   "display_name": "Python 3 (ipykernel)",
   "language": "python",
   "name": "python3"
  },
  "language_info": {
   "codemirror_mode": {
    "name": "ipython",
    "version": 3
   },
   "file_extension": ".py",
   "mimetype": "text/x-python",
   "name": "python",
   "nbconvert_exporter": "python",
   "pygments_lexer": "ipython3",
   "version": "3.10.8"
  }
 },
 "nbformat": 4,
 "nbformat_minor": 5
}
